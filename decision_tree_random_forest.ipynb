{
  "nbformat": 4,
  "nbformat_minor": 0,
  "metadata": {
    "colab": {
      "name": "condo_DT.ipynb",
      "provenance": [],
      "authorship_tag": "ABX9TyPlCRYbK9tsnB2x2ib3PoDD",
      "include_colab_link": true
    },
    "kernelspec": {
      "name": "python3",
      "display_name": "Python 3"
    },
    "language_info": {
      "name": "python"
    }
  },
  "cells": [
    {
      "cell_type": "markdown",
      "metadata": {
        "id": "view-in-github",
        "colab_type": "text"
      },
      "source": [
        "<a href=\"https://colab.research.google.com/github/sfch1999/Condos.ca-Prediction/blob/main/decision_tree_random_forest.ipynb\" target=\"_parent\"><img src=\"https://colab.research.google.com/assets/colab-badge.svg\" alt=\"Open In Colab\"/></a>"
      ]
    },
    {
      "cell_type": "code",
      "execution_count": 1,
      "metadata": {
        "id": "Lu6iFT6WpCmf"
      },
      "outputs": [],
      "source": [
        "import pandas as pd\n",
        "import numpy as np\n",
        "import sklearn as sk\n",
        "from sklearn.tree import DecisionTreeRegressor\n",
        "from sklearn.model_selection import train_test_split\n",
        "from sklearn.metrics import mean_absolute_error\n",
        "from sklearn.preprocessing import OneHotEncoder\n",
        "import matplotlib.pyplot as plt\n",
        "from sklearn.ensemble import RandomForestRegressor, GradientBoostingRegressor\n",
        "from sklearn.model_selection import cross_val_score"
      ]
    },
    {
      "cell_type": "code",
      "source": [
        "# load data\n",
        "data = pd.read_csv('condoData.csv')\n",
        "\n",
        "data = data.drop(columns=['Unnamed: 0', 'Possession','Corp #:','Show all', 'price', 'Broker', 'MLS Number', 'address', 'Parking:','Size:'])\n",
        "print(data.head(10))\n",
        "print(data.columns)"
      ],
      "metadata": {
        "id": "zPrSy4XipR1F"
      },
      "execution_count": null,
      "outputs": []
    },
    {
      "cell_type": "markdown",
      "source": [
        "# Data Processing"
      ],
      "metadata": {
        "id": "DRTV4fk0Dam4"
      }
    },
    {
      "cell_type": "code",
      "source": [
        "# make actual size numeric\n",
        "for i in range(data.shape[0]):\n",
        "  if \"-\" in data.at[i,'Actual size']:\n",
        "    values = data.at[i,'Actual size'].split(\"-\")\n",
        "    data.at[i,'Actual size'] = (int(values[0]) + (int(values[1])+1))//2\n",
        "\n",
        "data['Actual size'] = data['Actual size'].astype(int)\n",
        "\n",
        "print(data['Actual size'])\n"
      ],
      "metadata": {
        "colab": {
          "base_uri": "https://localhost:8080/"
        },
        "id": "24_tKe-auMfT",
        "outputId": "60edbccd-e2bc-4df0-8b72-16b3e534f3f4"
      },
      "execution_count": 3,
      "outputs": [
        {
          "output_type": "stream",
          "name": "stdout",
          "text": [
            "0       2536\n",
            "1        597\n",
            "2        465\n",
            "3       1100\n",
            "4        610\n",
            "        ... \n",
            "3602     765\n",
            "3603    1500\n",
            "3604     842\n",
            "3605     900\n",
            "3606     750\n",
            "Name: Actual size, Length: 3607, dtype: int64\n"
          ]
        }
      ]
    },
    {
      "cell_type": "code",
      "source": [
        "# make Maintenance fees numeric\n",
        "data['Maintenance fees'] = data['Maintenance fees'].str.replace(',', '')\n",
        "data['Maintenance fees'] = data['Maintenance fees'].str.replace('$', '')\n",
        "data['Maintenance fees'] = data['Maintenance fees'].astype(float)\n",
        "\n",
        "print(data['Maintenance fees'])"
      ],
      "metadata": {
        "colab": {
          "base_uri": "https://localhost:8080/"
        },
        "id": "ywrwO1a7vYfx",
        "outputId": "05bffd24-6e3b-4753-f52d-fc9c5b4613ac"
      },
      "execution_count": 4,
      "outputs": [
        {
          "output_type": "stream",
          "name": "stdout",
          "text": [
            "0       2071.29\n",
            "1        437.08\n",
            "2        353.00\n",
            "3       1052.99\n",
            "4        425.62\n",
            "         ...   \n",
            "3602     479.29\n",
            "3603     548.22\n",
            "3604     705.53\n",
            "3605     701.14\n",
            "3606     583.98\n",
            "Name: Maintenance fees, Length: 3607, dtype: float64\n"
          ]
        }
      ]
    },
    {
      "cell_type": "code",
      "source": [
        "# make Age of building numeric\n",
        "for i in range(data.shape[0]):\n",
        "  values = data.at[i,'Age of building'].split(\" \")\n",
        "  age = values[0]\n",
        "  if age == \"-\":\n",
        "    age=np.nan\n",
        "  elif age==\"New\":\n",
        "    age=0\n",
        "  elif \"-\" in age:\n",
        "    values = age.split(\"-\")\n",
        "    age = (int(values[0])+int(values[1]))//2\n",
        "  elif \"+\" in age:\n",
        "    age = age.split(\"+\")[0]\n",
        "\n",
        "  data.at[i,'Age of building'] = age\n",
        "\n",
        "data['Age of building'] = data['Age of building'].astype(float)\n",
        "\n",
        "print(data['Age of building'].unique())"
      ],
      "metadata": {
        "colab": {
          "base_uri": "https://localhost:8080/"
        },
        "id": "QgdJF4A2wb2w",
        "outputId": "9d431b23-faa6-4ada-921b-fcda524cdb45"
      },
      "execution_count": 5,
      "outputs": [
        {
          "output_type": "stream",
          "name": "stdout",
          "text": [
            "[  9.  24.   4.  34.   5.   7.   0.  nan   3.  42.  19.  11.  44.  12.\n",
            "  15.  49.  20.   8.   1.  10.  14.  23.  31.   2.  16.  30.  17.  29.\n",
            "  21.  25.  43.  36.  40.  33.   6.  28.  46.  13.  47.  22.  45.  18.\n",
            "  50.  32.  37.  39.  48.  35.  38.  41.  51.  52.  26.  75.  27. 100.]\n"
          ]
        }
      ]
    },
    {
      "cell_type": "code",
      "source": [
        "# make Price/sqm numeric\n",
        "data['Price/sqm'] = data['Price/sqm'].str.replace(',', '')\n",
        "data['Price/sqm'] = data['Price/sqm'].str.replace('$', '')\n",
        "\n",
        "for i in range(data.shape[0]):\n",
        "  if \"-\" in str(data.at[i,'Price/sqm']):\n",
        "    values = data.at[i,'Price/sqm'].split(\"-\")\n",
        "    data.at[i,'Price/sqm'] = (int(values[0])+int(values[1]))//2\n",
        "\n",
        "data['Price/sqm'] = data['Price/sqm'].astype(float)\n",
        "\n",
        "\n",
        "print(data['Price/sqm'])"
      ],
      "metadata": {
        "colab": {
          "base_uri": "https://localhost:8080/"
        },
        "id": "TXOfoG3QySLQ",
        "outputId": "89e5f48b-ebf7-49cf-e954-9c13e8150a38"
      },
      "execution_count": 6,
      "outputs": [
        {
          "output_type": "stream",
          "name": "stdout",
          "text": [
            "0        7606.0\n",
            "1        9273.0\n",
            "2       11605.0\n",
            "3        6126.0\n",
            "4       10702.0\n",
            "         ...   \n",
            "3602    11266.0\n",
            "3603    10788.0\n",
            "3604     6729.0\n",
            "3605     5713.0\n",
            "3606    11100.0\n",
            "Name: Price/sqm, Length: 3607, dtype: float64\n"
          ]
        }
      ]
    },
    {
      "cell_type": "code",
      "source": [
        "# create Den column and make Bed numeric\n",
        "data['Den'] = np.zeros(data.shape[0])\n",
        "\n",
        "for i in range(data.shape[0]):\n",
        "  if \"+\" in str(data.at[i,'Bed']):\n",
        "    values = data.at[i,'Bed'].split(\"+\")\n",
        "    data.at[i,'Bed'] = values[0]\n",
        "    data.at[i,'Den'] = values[1]\n",
        "  elif data.at[i,'Bed'] == 'Studio':\n",
        "    data.at[i,'Bed'] = 0 \n",
        "\n",
        "data['Bed'] = data['Bed'].astype(int)\n",
        "data['Den'] = data['Den'].astype(int)\n",
        "\n",
        "print(data['Bed'].unique())\n",
        "print(data['Den'].unique())\n",
        "\n"
      ],
      "metadata": {
        "colab": {
          "base_uri": "https://localhost:8080/"
        },
        "id": "VMX4EJhG0Iep",
        "outputId": "f8fd3ac5-a3e6-4eff-c47a-264674b4ccc4"
      },
      "execution_count": 7,
      "outputs": [
        {
          "output_type": "stream",
          "name": "stdout",
          "text": [
            "[2 1 3 0 4 5]\n",
            "[1 0 3 2]\n"
          ]
        }
      ]
    },
    {
      "cell_type": "code",
      "source": [
        "# generate list of unique amenities, and make a col for each\n",
        "amenities = []\n",
        "\n",
        "for i in range(data.shape[0]):\n",
        "  amenities_condo = []\n",
        "  amenities_condo = data.at[i,'amenities'].split(\",\")\n",
        "\n",
        "  for j in range(len(amenities_condo)):\n",
        "    item = amenities_condo[j].strip(\" \")\n",
        "    data.at[i,item] = 1\n",
        "\n",
        "    if item not in amenities:\n",
        "      amenities.append(item)\n",
        "\n",
        "\n",
        "for a in range(len(amenities)):\n",
        "  data[amenities[a]] = data[amenities[a]].fillna(0)\n",
        "  data[amenities[a]] = data[amenities[a]].astype(int)\n"
      ],
      "metadata": {
        "id": "VlSzr-mMtOHy"
      },
      "execution_count": 8,
      "outputs": []
    },
    {
      "cell_type": "code",
      "source": [
        "# generate list of unique services incl in maintence fees, and make a col for each\n",
        "maintence = []\n",
        "\n",
        "for i in range(data.shape[0]):\n",
        "  maintence_condo = []\n",
        "  maintence_condo = data.at[i,'included_in_maintenance_fees'].split(\",\")\n",
        "\n",
        "  for j in range(len(maintence_condo)):\n",
        "    item = maintence_condo[j].strip(\" \")\n",
        "    data.at[i,item] = 1\n",
        "\n",
        "    if item not in amenities:\n",
        "      maintence.append(item)\n",
        "\n",
        "\n",
        "for a in range(len(maintence)):\n",
        "  data[maintence[a]] = data[maintence[a]].fillna(0)\n",
        "  data[maintence[a]] = data[maintence[a]].astype(int)\n",
        "\n"
      ],
      "metadata": {
        "id": "hOU7fsp9tVty"
      },
      "execution_count": 9,
      "outputs": []
    },
    {
      "cell_type": "code",
      "source": [
        "data = data.drop(columns=['amenities', 'included_in_maintenance_fees'])"
      ],
      "metadata": {
        "id": "98g3iZiH4ctp"
      },
      "execution_count": 10,
      "outputs": []
    },
    {
      "cell_type": "code",
      "source": [
        "# one hot encode categorical data\n",
        "data = pd.get_dummies(data, columns=['Exposure','Outdoor space', 'Locker', 'Heating type:',\n",
        "       'Parking type:', 'Property type:', 'Area:', 'Ensuite laundry:'], drop_first=True)\n",
        "\n",
        "\n"
      ],
      "metadata": {
        "id": "9-Mz3SwD7kkz"
      },
      "execution_count": 11,
      "outputs": []
    },
    {
      "cell_type": "code",
      "source": [
        "data_no_na = data.dropna(axis=0)\n",
        "print(data.shape)\n",
        "print(data_no_na.shape)"
      ],
      "metadata": {
        "colab": {
          "base_uri": "https://localhost:8080/"
        },
        "id": "ZmXL4-Ov9Ynv",
        "outputId": "b9690717-a560-47ea-e3ff-a0674d296e32"
      },
      "execution_count": 12,
      "outputs": [
        {
          "output_type": "stream",
          "name": "stdout",
          "text": [
            "(3607, 246)\n",
            "(3447, 246)\n"
          ]
        }
      ]
    },
    {
      "cell_type": "code",
      "source": [
        "print(data_no_na.columns)"
      ],
      "metadata": {
        "colab": {
          "base_uri": "https://localhost:8080/"
        },
        "id": "C9vUqnw-HIVv",
        "outputId": "09d074a3-e7ca-4a37-fb7e-042ffae7e666"
      },
      "execution_count": 13,
      "outputs": [
        {
          "output_type": "stream",
          "name": "stdout",
          "text": [
            "Index(['Actual size', 'Maintenance fees', 'Age of building', 'Price/sqm',\n",
            "       'Bed', 'Bath', 'Parking', 'Den', 'Concierge', 'Gym',\n",
            "       ...\n",
            "       'Area:_Woburn', 'Area:_Woodbine Corridor', 'Area:_Wychwood',\n",
            "       'Area:_Yonge and Bloor', 'Area:_Yonge-Eglinton',\n",
            "       'Area:_Yonge-St. Clair', 'Area:_York University Heights',\n",
            "       'Area:_Yorkdale | Glen Park', 'Area:_Yorkville',\n",
            "       'Ensuite laundry:_Yes'],\n",
            "      dtype='object', length=246)\n"
          ]
        }
      ]
    },
    {
      "cell_type": "code",
      "source": [
        "# save data_no_na to a csv file\n",
        "data_no_na.to_csv(\"data_with_amenities\",sep=\",\", mode='w', header=False) "
      ],
      "metadata": {
        "id": "1dlcc39GXomx"
      },
      "execution_count": 14,
      "outputs": []
    },
    {
      "cell_type": "markdown",
      "source": [
        "# Decision Tree Regression Model"
      ],
      "metadata": {
        "id": "-axrc3Zg4u9i"
      }
    },
    {
      "cell_type": "code",
      "source": [
        "# split x andd y data\n",
        "y_data = data_no_na['Price/sqm']\n",
        "X_data = data_no_na.drop(columns=['Price/sqm'])\n",
        "\n",
        "# split train and test sets\n",
        "X_train, X_test, y_train, y_test = train_test_split(X_data, y_data, test_size=0.3, random_state=42)"
      ],
      "metadata": {
        "id": "Ogj8TY7Y4udy"
      },
      "execution_count": 15,
      "outputs": []
    },
    {
      "cell_type": "code",
      "source": [
        "# run cross validation to determine best maximum depth\n",
        "mae_train_dt = np.zeros(50)\n",
        "mae_val_dt = np.zeros(50)\n",
        "max_depth_dt = np.arange(1,51)\n",
        "\n",
        "for i in range(50):\n",
        "  regressor = DecisionTreeRegressor(random_state=0, max_depth=i+1)\n",
        "  regressor.fit(X_train, y_train)\n",
        "  \n",
        "  y_pred_train = regressor.predict(X_train)\n",
        "  cv_score = cross_val_score(regressor, X_train, y_train, cv=5, scoring=\"neg_mean_absolute_error\").mean()\n",
        "  \n",
        "  mae_val_dt[i] = cv_score\n",
        "  mae_train_dt[i] = mean_absolute_error(y_train, y_pred_train)\n",
        "\n",
        "# cross validation returns the negative MAE - make positive\n",
        "mae_val_dt = mae_val_dt*(-1)\n",
        "\n",
        "# plot results of cross validation\n",
        "plt.plot(max_depth_dt, mae_train_dt, label = \"train\")\n",
        "plt.plot(max_depth_dt, mae_val_dt, label = \"validation\")\n",
        "plt.xlabel(\"Max Depth\")\n",
        "plt.ylabel(\"MAE ($)\")\n",
        "plt.legend()\n",
        "plt.show()\n",
        "\n",
        "best_depth_idx = np.argmin(mae_val_dt)\n",
        "print(\"best depth = \", max_depth_dt[best_depth_idx])\n",
        "print(\"Validation MAE at best depth = \", mae_val_dt[best_depth_idx])\n",
        "\n",
        "# fit the data to a DT with the best max_depth\n",
        "regressor = DecisionTreeRegressor(random_state=0, max_depth=max_depth_dt[best_depth_idx])\n",
        "regressor.fit(X_train, y_train)\n",
        "\n",
        "# test this model on the test set data\n",
        "y_pred_test = regressor.predict(X_test)\n",
        "mae_test = mean_absolute_error(y_test, y_pred_test)\n",
        "print(\"Test MAE at best depth = \", mae_test)"
      ],
      "metadata": {
        "colab": {
          "base_uri": "https://localhost:8080/",
          "height": 334
        },
        "id": "IKPg24y_5mgj",
        "outputId": "8ab4b00f-4a60-48bc-f93e-ee34717ce11a"
      },
      "execution_count": 26,
      "outputs": [
        {
          "output_type": "display_data",
          "data": {
            "image/png": "[encoded data removed]",
            "text/plain": [
              "<Figure size 432x288 with 1 Axes>"
            ]
          },
          "metadata": {
            "needs_background": "light"
          }
        },
        {
          "output_type": "stream",
          "name": "stdout",
          "text": [
            "best depth =  18\n",
            "Validation MAE at best depth =  1561.8088363434683\n",
            "Test MAE at best depth =  1445.338947570726\n"
          ]
        }
      ]
    },
    {
      "cell_type": "markdown",
      "source": [
        "# Random Forrest Regression Model"
      ],
      "metadata": {
        "id": "_mlwyYB3EIPH"
      }
    },
    {
      "cell_type": "code",
      "source": [
        "# run cross validation to determine best maximum depth\n",
        "mae_train_rf = np.zeros(30)\n",
        "mae_val_rf = np.zeros(30)\n",
        "max_depth_rf = np.arange(1,31)\n",
        "\n",
        "for i in range(30):\n",
        "  regressor = RandomForestRegressor(random_state=0, max_depth=i+1)\n",
        "  regressor.fit(X_train, y_train)\n",
        "  \n",
        "  y_pred_train = regressor.predict(X_train)\n",
        "  cv_score = cross_val_score(regressor, X_train, y_train, cv=5, scoring=\"neg_mean_absolute_error\").mean()\n",
        "\n",
        "  mae_val_rf[i] = cv_score\n",
        "  mae_train_rf[i] = mean_absolute_error(y_train, y_pred_train)\n",
        "\n",
        "# cross validation returns the negative MAE- make positive\n",
        "mae_val_rf = mae_val_rf*(-1)\n",
        "\n",
        "# plot results of cross validation\n",
        "plt.plot(max_depth_rf, mae_train_rf, label = \"train\")\n",
        "plt.plot(max_depth_rf, mae_val_rf, label = \"validation\")\n",
        "plt.xlabel(\"Max Depth\")\n",
        "plt.ylabel(\"MAE ($)\")\n",
        "plt.legend()\n",
        "plt.show()\n",
        "\n",
        "best_depth_idx = np.argmin(mae_val_rf)\n",
        "print(\"best depth = \", max_depth_rf[best_depth_idx])\n",
        "print(\"validation MAE at best depth = \", mae_val_rf[best_depth_idx])\n",
        "\n",
        "# fit the data to a RF with the best max_depth\n",
        "regressor = RandomForestRegressor(random_state=0, max_depth=max_depth_dt[best_depth_idx])\n",
        "regressor.fit(X_train, y_train)\n",
        "\n",
        "# test this model on the test set data\n",
        "y_pred_test = regressor.predict(X_test)\n",
        "mae_test = mean_absolute_error(y_test, y_pred_test)\n",
        "print(\"Test MAE at best depth = \", mae_test)"
      ],
      "metadata": {
        "colab": {
          "base_uri": "https://localhost:8080/",
          "height": 334
        },
        "id": "nHxOE3d3EJSK",
        "outputId": "2a614dd1-fe48-4c3e-e413-348fa14554b7"
      },
      "execution_count": 27,
      "outputs": [
        {
          "output_type": "display_data",
          "data": {
            "image/png": "[encoded data removed]",
            "text/plain": [
              "<Figure size 432x288 with 1 Axes>"
            ]
          },
          "metadata": {
            "needs_background": "light"
          }
        },
        {
          "output_type": "stream",
          "name": "stdout",
          "text": [
            "best depth =  29\n",
            "test MAE at best depth =  1205.670320591899\n",
            "Test MAE at best depth =  1089.3952443618982\n"
          ]
        }
      ]
    },
    {
      "cell_type": "code",
      "source": [
        "# random forrest with best max depth\n",
        "regressor = RandomForestRegressor(random_state=0, max_depth=i+1)\n",
        "regressor.fit(X_train, y_train)\n",
        "\n",
        "y_pred = regressor.predict(X_test)\n",
        "y_pred_train = regressor.predict(X_train)\n",
        "\n",
        "mae_test = mean_absolute_error(y_test, y_pred)\n",
        "mae_train = mean_absolute_error(y_train, y_pred_train)\n",
        "\n",
        "print(\"mae_train = \", mae_train)\n",
        "print(\"mae_test = \", mae_test)"
      ],
      "metadata": {
        "colab": {
          "base_uri": "https://localhost:8080/"
        },
        "id": "urtgV3FQInBv",
        "outputId": "13de058d-aac8-4ab6-da8b-58927cdf10a3"
      },
      "execution_count": 31,
      "outputs": [
        {
          "output_type": "stream",
          "name": "stdout",
          "text": [
            "mae_train =  445.8920977520709\n",
            "mae_test =  1090.0855415058898\n"
          ]
        }
      ]
    },
    {
      "cell_type": "code",
      "source": [
        "# feature importance from random forrest regressor\n",
        "importances = regressor.feature_importances_\n",
        "\n",
        "importances_df = pd.DataFrame({'feature': X_data.columns, 'importance': importances})\n",
        "importances_df = importances_df.sort_values('importance', axis=0, ascending=False)\n",
        "\n",
        "print(\"Most important features:\")\n",
        "display(importances_df.head(15))\n",
        "importances_df.to_csv(\"import.csv\",sep=\",\", mode='w', header=False) \n",
        "\n",
        "n = importances_df.shape[0]\n",
        "#print(\"Least important features:\")\n",
        "#print(importances_df.tail(15))"
      ],
      "metadata": {
        "colab": {
          "base_uri": "https://localhost:8080/",
          "height": 537
        },
        "id": "7edXvlv_I-QM",
        "outputId": "bab09f48-52c1-4585-eb80-67877ff29ea5"
      },
      "execution_count": 32,
      "outputs": [
        {
          "output_type": "stream",
          "name": "stdout",
          "text": [
            "Most important features:\n"
          ]
        },
        {
          "output_type": "display_data",
          "data": {
            "text/html": [
              "<div>\n",
              "<style scoped>\n",
              "    .dataframe tbody tr th:only-of-type {\n",
              "        vertical-align: middle;\n",
              "    }\n",
              "\n",
              "    .dataframe tbody tr th {\n",
              "        vertical-align: top;\n",
              "    }\n",
              "\n",
              "    .dataframe thead th {\n",
              "        text-align: right;\n",
              "    }\n",
              "</style>\n",
              "<table border=\"1\" class=\"dataframe\">\n",
              "  <thead>\n",
              "    <tr style=\"text-align: right;\">\n",
              "      <th></th>\n",
              "      <th>feature</th>\n",
              "      <th>importance</th>\n",
              "    </tr>\n",
              "  </thead>\n",
              "  <tbody>\n",
              "    <tr>\n",
              "      <th>2</th>\n",
              "      <td>Age of building</td>\n",
              "      <td>0.412182</td>\n",
              "    </tr>\n",
              "    <tr>\n",
              "      <th>1</th>\n",
              "      <td>Maintenance fees</td>\n",
              "      <td>0.132897</td>\n",
              "    </tr>\n",
              "    <tr>\n",
              "      <th>0</th>\n",
              "      <td>Actual size</td>\n",
              "      <td>0.100856</td>\n",
              "    </tr>\n",
              "    <tr>\n",
              "      <th>7</th>\n",
              "      <td>Concierge</td>\n",
              "      <td>0.029535</td>\n",
              "    </tr>\n",
              "    <tr>\n",
              "      <th>243</th>\n",
              "      <td>Area:_Yorkville</td>\n",
              "      <td>0.027394</td>\n",
              "    </tr>\n",
              "    <tr>\n",
              "      <th>17</th>\n",
              "      <td>Outdoor Pool</td>\n",
              "      <td>0.014037</td>\n",
              "    </tr>\n",
              "    <tr>\n",
              "      <th>4</th>\n",
              "      <td>Bath</td>\n",
              "      <td>0.013809</td>\n",
              "    </tr>\n",
              "    <tr>\n",
              "      <th>22</th>\n",
              "      <td>Rooftop Deck</td>\n",
              "      <td>0.011862</td>\n",
              "    </tr>\n",
              "    <tr>\n",
              "      <th>203</th>\n",
              "      <td>Area:_Queen West</td>\n",
              "      <td>0.010076</td>\n",
              "    </tr>\n",
              "    <tr>\n",
              "      <th>26</th>\n",
              "      <td>Beanfield Fibre Available</td>\n",
              "      <td>0.008765</td>\n",
              "    </tr>\n",
              "    <tr>\n",
              "      <th>106</th>\n",
              "      <td>Property type:_Condo Townhouse</td>\n",
              "      <td>0.008321</td>\n",
              "    </tr>\n",
              "    <tr>\n",
              "      <th>5</th>\n",
              "      <td>Parking</td>\n",
              "      <td>0.008311</td>\n",
              "    </tr>\n",
              "    <tr>\n",
              "      <th>113</th>\n",
              "      <td>Area:_Bay St. Corridor</td>\n",
              "      <td>0.008227</td>\n",
              "    </tr>\n",
              "    <tr>\n",
              "      <th>81</th>\n",
              "      <td>Exposure_W</td>\n",
              "      <td>0.008187</td>\n",
              "    </tr>\n",
              "    <tr>\n",
              "      <th>3</th>\n",
              "      <td>Bed</td>\n",
              "      <td>0.007827</td>\n",
              "    </tr>\n",
              "  </tbody>\n",
              "</table>\n",
              "</div>"
            ],
            "text/plain": [
              "                            feature  importance\n",
              "2                   Age of building    0.412182\n",
              "1                  Maintenance fees    0.132897\n",
              "0                       Actual size    0.100856\n",
              "7                         Concierge    0.029535\n",
              "243                 Area:_Yorkville    0.027394\n",
              "17                     Outdoor Pool    0.014037\n",
              "4                              Bath    0.013809\n",
              "22                     Rooftop Deck    0.011862\n",
              "203                Area:_Queen West    0.010076\n",
              "26        Beanfield Fibre Available    0.008765\n",
              "106  Property type:_Condo Townhouse    0.008321\n",
              "5                           Parking    0.008311\n",
              "113          Area:_Bay St. Corridor    0.008227\n",
              "81                       Exposure_W    0.008187\n",
              "3                               Bed    0.007827"
            ]
          },
          "metadata": {}
        }
      ]
    },
    {
      "cell_type": "markdown",
      "source": [
        "# Plot for report"
      ],
      "metadata": {
        "id": "0rt_naWdGhp9"
      }
    },
    {
      "cell_type": "code",
      "source": [
        "# create a figure with both plots side by side\n",
        "\n",
        "fig, (ax1, ax2) = plt.subplots(1, 2, sharey='row')\n",
        "fig.set_figheight(4)\n",
        "fig.set_figwidth(12)\n",
        "\n",
        "ax1.plot(max_depth_dt, mae_train_dt, label = \"train\")\n",
        "ax1.plot(max_depth_dt, mae_val_dt, label = \"validation\")\n",
        "ax1.set(xlabel=\"Max Depth\", ylabel=\"MAE ($)\")\n",
        "ax1.legend()\n",
        "ax1.set_title(\"Decision Tree\")\n",
        "\n",
        "\n",
        "ax2.plot(max_depth_rf, mae_train_rf, label = \"train\")\n",
        "ax2.plot(max_depth_rf, mae_val_rf, label = \"validation\")\n",
        "ax2.set(xlabel=\"Max Depth\")\n",
        "\n",
        "ax2.legend()\n",
        "ax2.set_title(\"Random Forrest\")\n",
        "\n",
        "\n",
        "plt.show()\n",
        "\n"
      ],
      "metadata": {
        "colab": {
          "base_uri": "https://localhost:8080/",
          "height": 294
        },
        "id": "FwN3Db2lBmia",
        "outputId": "fb40e743-8a52-4789-ca74-f38e25dc1472"
      },
      "execution_count": 29,
      "outputs": [
        {
          "output_type": "display_data",
          "data": {
            "image/png": "[encoded data removed]",
            "text/plain": [
              "<Figure size 864x288 with 2 Axes>"
            ]
          },
          "metadata": {
            "needs_background": "light"
          }
        }
      ]
    }
  ]
}