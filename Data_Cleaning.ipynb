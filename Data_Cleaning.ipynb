{
  "nbformat": 4,
  "nbformat_minor": 0,
  "metadata": {
    "colab": {
      "name": "Data Cleaning.ipynb",
      "provenance": []
    },
    "kernelspec": {
      "display_name": "Python 3",
      "name": "python3"
    },
    "language_info": {
      "name": "python"
    }
  },
  "cells": [
    {
      "cell_type": "markdown",
      "source": [
        "##Loading Data"
      ],
      "metadata": {
        "id": "6ce9RTARvsg1"
      }
    },
    {
      "cell_type": "code",
      "metadata": {
        "id": "j_kUywuwhjnQ"
      },
      "source": [
        "import pandas as pd\n",
        "from google.colab import drive\n",
        "drive.mount('/content/drive')"
      ],
      "execution_count": null,
      "outputs": []
    },
    {
      "cell_type": "markdown",
      "source": [
        "###Observing Data Columns "
      ],
      "metadata": {
        "id": "F8dqFy5Hv2d2"
      }
    },
    {
      "cell_type": "code",
      "metadata": {
        "id": "WRpnNT5hmF2d"
      },
      "source": [
        "df=pd.read_csv(\"/content/drive/MyDrive/condoData (2).csv\", error_bad_lines=False)\n",
        "df.columns"
      ],
      "execution_count": null,
      "outputs": []
    },
    {
      "cell_type": "markdown",
      "source": [
        "###Selectin Features\n"
      ],
      "metadata": {
        "id": "DlcdxXLywEPL"
      }
    },
    {
      "cell_type": "code",
      "metadata": {
        "id": "IKMXkS88nZiG"
      },
      "source": [
        "df_clean=df[['Actual size','Exposure','Maintenance fees','Age of building','Outdoor space','Locker','Property type:','Area:','Parking','Bed','Bath']]"
      ],
      "execution_count": null,
      "outputs": []
    },
    {
      "cell_type": "markdown",
      "source": [
        "###Type Casting"
      ],
      "metadata": {
        "id": "WWD4faI7wPA7"
      }
    },
    {
      "cell_type": "code",
      "source": [
        "df_clean['Maintenance fees']=df_clean['Maintenance fees'].str[1:]\n",
        "df_clean['Age of building']=df_clean['Age of building'].str[:-10]\n",
        "df_clean['Parking']=df_clean['Parking'].fillna(0).astype(\"int\")"
      ],
      "metadata": {
        "id": "WbZwPPQ6wI0X"
      },
      "execution_count": null,
      "outputs": []
    },
    {
      "cell_type": "markdown",
      "source": [
        "###Spliting Number of Dens from Bedrooms"
      ],
      "metadata": {
        "id": "wyarqw_DwXy5"
      }
    },
    {
      "cell_type": "code",
      "source": [
        "df_clean[['Bed','Den']]=df_clean['Bed'].str.split('+', 1, expand=True)\n",
        "df_clean['Den']=df_clean['Den'].fillna(0)"
      ],
      "metadata": {
        "id": "wUX2n-NcwVI4"
      },
      "execution_count": null,
      "outputs": []
    },
    {
      "cell_type": "markdown",
      "source": [
        "## Creating One Hot Encoding for Categorical Features"
      ],
      "metadata": {
        "id": "QmVqEd1xwgv7"
      }
    },
    {
      "cell_type": "code",
      "metadata": {
        "id": "eIIDdf54qHrL"
      },
      "source": [
        "one_hot = pd.get_dummies(df_clean['Exposure'])\n",
        "df_clean_one_hot = df_clean.drop('Exposure',axis = 1)\n",
        "df_clean_one_hot = df_clean_one_hot.join(one_hot)\n",
        "\n",
        "one_hot = pd.get_dummies(df_clean['Outdoor space'])\n",
        "df_clean_one_hot = df_clean_one_hot.drop('Outdoor space',axis = 1)\n",
        "df_clean_one_hot = df_clean_one_hot.join(one_hot)\n",
        "df_clean_one_hot = df_clean_one_hot.drop('None',axis = 1)\n",
        "\n",
        "one_hot = pd.get_dummies(df_clean['Locker'])\n",
        "df_clean_one_hot = df_clean_one_hot.drop('Locker',axis = 1)\n",
        "df_clean_one_hot = df_clean_one_hot.join(one_hot)\n",
        "df_clean_one_hot = df_clean_one_hot.drop('None',axis = 1)\n",
        "\n",
        "one_hot = pd.get_dummies(df_clean['Area:'])\n",
        "df_clean_one_hot = df_clean_one_hot.drop('Area:',axis = 1)\n",
        "df_clean_one_hot = df_clean_one_hot.join(one_hot)\n",
        "\n",
        "one_hot = pd.get_dummies(df_clean['Property type:'])\n",
        "df_clean_one_hot = df_clean_one_hot.drop('Property type:',axis = 1)\n",
        "df_clean_one_hot = df_clean_one_hot.join(one_hot)\n",
        "\n",
        "df_clean_one_hot.to_csv('out.csv')"
      ],
      "execution_count": null,
      "outputs": []
    },
    {
      "cell_type": "markdown",
      "source": [
        "###Creating Numerical Encoding for Categorical Features"
      ],
      "metadata": {
        "id": "x5nP1HfVwoXi"
      }
    },
    {
      "cell_type": "code",
      "metadata": {
        "id": "IM-eXvlbu3Ax"
      },
      "source": [
        "df_clean['Exposure'] = pd.Categorical(df_clean['Exposure'])\n",
        "df_clean['Outdoor space'] = pd.Categorical(df_clean['Outdoor space'])\n",
        "df_clean['Locker'] = pd.Categorical(df_clean['Locker'])\n",
        "df_clean['Area:'] = pd.Categorical(df_clean['Area:'])\n",
        "df_clean['Property type:'] = pd.Categorical(df_clean['Property type:'])\n",
        "\n",
        "df_clean['Exposure'] = df_clean['Exposure'].cat.codes\n",
        "df_clean['Outdoor space'] = df_clean['Outdoor space'].cat.codes\n",
        "df_clean['Locker'] = df_clean['Locker'].cat.codes\n",
        "df_clean['Area:'] = df_clean['Area:'].cat.codes\n",
        "df_clean['Property type:'] = df_clean['Property type:'].cat.codes\n",
        "\n",
        "df_clean.to_csv('out2.csv')\n",
        "df_clean"
      ],
      "execution_count": null,
      "outputs": []
    }
  ]
}